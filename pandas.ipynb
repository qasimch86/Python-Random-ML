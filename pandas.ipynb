{
 "cells": [
  {
   "cell_type": "code",
   "execution_count": 1,
   "metadata": {},
   "outputs": [],
   "source": [
    "import pandas as pd"
   ]
  },
  {
   "cell_type": "code",
   "execution_count": 3,
   "metadata": {},
   "outputs": [
    {
     "name": "stdout",
     "output_type": "stream",
     "text": [
      "0         A\n",
      "1         B\n",
      "2         C\n",
      "3       265\n",
      "4       -12\n",
      "5   -23.233\n",
      "6         D\n",
      "dtype: object\n"
     ]
    }
   ],
   "source": [
    "series=pd.Series(['A','B','C',265,-12,-23.233,'D'])\n",
    "print(series)"
   ]
  },
  {
   "cell_type": "code",
   "execution_count": 9,
   "metadata": {},
   "outputs": [
    {
     "name": "stdout",
     "output_type": "stream",
     "text": [
      "Instructor         A\n",
      "Curriculum         B\n",
      "Course Number    234\n",
      "Power level       36\n",
      "dtype: object\n",
      "\n",
      "A\n",
      "\n",
      "Instructor      A\n",
      "Curriculum      B\n",
      "Power level    36\n",
      "dtype: object\n"
     ]
    }
   ],
   "source": [
    "series = pd.Series(['A','B',234,36],index=['Instructor','Curriculum','Course Number','Power level'])\n",
    "print(series)\n",
    "print(\"\")\n",
    "print(series['Instructor'])\n",
    "print(\"\")\n",
    "print(series[['Instructor','Curriculum','Power level']])"
   ]
  },
  {
   "cell_type": "code",
   "execution_count": 14,
   "metadata": {},
   "outputs": [
    {
     "name": "stdout",
     "output_type": "stream",
     "text": [
      "Cockroach    False\n",
      "Fish         False\n",
      "Lion         False\n",
      "Puppy         True\n",
      "Kitten        True\n",
      "dtype: bool\n",
      "\n",
      "Puppy     4\n",
      "Kitten    5\n",
      "dtype: int64\n"
     ]
    }
   ],
   "source": [
    "cuteness=pd.Series([1,2,3,4,5],index=['Cockroach','Fish','Lion','Puppy','Kitten'])\n",
    "print(cuteness>3)\n",
    "print(\"\")\n",
    "print(cuteness[cuteness>3])"
   ]
  },
  {
   "cell_type": "code",
   "execution_count": null,
   "metadata": {},
   "outputs": [],
   "source": []
  }
 ],
 "metadata": {
  "kernelspec": {
   "display_name": "Python 3",
   "language": "python",
   "name": "python3"
  },
  "language_info": {
   "codemirror_mode": {
    "name": "ipython",
    "version": 3
   },
   "file_extension": ".py",
   "mimetype": "text/x-python",
   "name": "python",
   "nbconvert_exporter": "python",
   "pygments_lexer": "ipython3",
   "version": "3.6.4"
  }
 },
 "nbformat": 4,
 "nbformat_minor": 2
}
